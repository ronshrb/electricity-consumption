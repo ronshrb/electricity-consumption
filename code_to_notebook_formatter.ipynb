{
 "cells": [
  {
   "cell_type": "markdown",
   "id": "e2a620cc",
   "metadata": {},
   "source": [
    "# Python File to Jupyter Notebook Formatter\n",
    "\n",
    "This notebook demonstrates how to structure a Python file so it can be easily converted to a Jupyter notebook. Follow these guidelines to make your Python code notebook-friendly."
   ]
  },
  {
   "cell_type": "markdown",
   "id": "f86e3a14",
   "metadata": {},
   "source": [
    "## Add Cell Numbers\n",
    "\n",
    "Number each code chunk as a separate cell to maintain structure when converting to a notebook."
   ]
  },
  {
   "cell_type": "code",
   "execution_count": null,
   "id": "f0fb8b8e",
   "metadata": {},
   "outputs": [],
   "source": [
    "# Cell 1\n",
    "# This is the first cell in our notebook\n",
    "# Define a simple function to demonstrate cell numbering\n",
    "\n",
    "def greet(name):\n",
    "    \"\"\"\n",
    "    A simple greeting function\n",
    "    \"\"\"\n",
    "    return f\"Hello, {name}!\"\n",
    "\n",
    "# Test the function\n",
    "greet(\"Notebook User\")"
   ]
  },
  {
   "cell_type": "code",
   "execution_count": null,
   "id": "1ff91a22",
   "metadata": {},
   "outputs": [],
   "source": [
    "# Cell 2\n",
    "# Another cell with different functionality\n",
    "import numpy as np\n",
    "\n",
    "# Create some sample data\n",
    "data = np.random.randn(100)\n",
    "print(f\"Sample data shape: {data.shape}\")\n",
    "print(f\"Mean: {data.mean():.4f}\")\n",
    "print(f\"Standard deviation: {data.std():.4f}\")"
   ]
  },
  {
   "cell_type": "markdown",
   "id": "6cc40e4a",
   "metadata": {},
   "source": [
    "## Insert Titles and Subtitles\n",
    "\n",
    "Use Markdown-style comments to create section headers. When converting to a notebook, these can become actual Markdown cells."
   ]
  },
  {
   "cell_type": "code",
   "execution_count": null,
   "id": "f8ba71d7",
   "metadata": {},
   "outputs": [],
   "source": [
    "# Cell 3\n",
    "# The following structure works well in Python files:\n",
    "\n",
    "\"\"\"\n",
    "# Title: Data Analysis\n",
    "## Subtitle: Data Loading\n",
    "\"\"\"\n",
    "\n",
    "import pandas as pd\n",
    "\n",
    "# Load a sample dataset\n",
    "data = {\n",
    "    'Name': ['Alice', 'Bob', 'Charlie', 'David', 'Eva'],\n",
    "    'Age': [25, 30, 35, 40, 45],\n",
    "    'Score': [85, 92, 78, 96, 88]\n",
    "}\n",
    "\n",
    "df = pd.DataFrame(data)\n",
    "print(\"Dataset loaded successfully:\")\n",
    "df"
   ]
  },
  {
   "cell_type": "code",
   "execution_count": null,
   "id": "a12871f3",
   "metadata": {},
   "outputs": [],
   "source": [
    "# Cell 4\n",
    "\n",
    "\"\"\"\n",
    "## Subtitle: Data Visualization\n",
    "\"\"\"\n",
    "\n",
    "import matplotlib.pyplot as plt\n",
    "\n",
    "# Create a simple visualization\n",
    "plt.figure(figsize=(10, 6))\n",
    "plt.bar(df['Name'], df['Score'], color='skyblue')\n",
    "plt.title('Student Scores')\n",
    "plt.xlabel('Name')\n",
    "plt.ylabel('Score')\n",
    "plt.show()"
   ]
  },
  {
   "cell_type": "markdown",
   "id": "207d0b62",
   "metadata": {},
   "source": [
    "## Add Comments and Documentation\n",
    "\n",
    "Include detailed comments and documentation to explain your code. This makes your notebook more readable and educational."
   ]
  },
  {
   "cell_type": "code",
   "execution_count": null,
   "id": "3cfba023",
   "metadata": {},
   "outputs": [],
   "source": [
    "# Cell 5\n",
    "def analyze_data(dataframe, column_name):\n",
    "    \"\"\"\n",
    "    Perform basic statistical analysis on a specific column of a DataFrame.\n",
    "    \n",
    "    Parameters:\n",
    "    -----------\n",
    "    dataframe : pandas.DataFrame\n",
    "        The DataFrame containing the data to analyze\n",
    "    column_name : str\n",
    "        The name of the column to analyze\n",
    "        \n",
    "    Returns:\n",
    "    --------\n",
    "    dict\n",
    "        A dictionary containing basic statistics\n",
    "    \"\"\"\n",
    "    # Check if the column exists in the dataframe\n",
    "    if column_name not in dataframe.columns:\n",
    "        raise ValueError(f\"Column '{column_name}' not found in the DataFrame\")\n",
    "    \n",
    "    # Extract the column data\n",
    "    data = dataframe[column_name]\n",
    "    \n",
    "    # Calculate basic statistics\n",
    "    stats = {\n",
    "        'mean': data.mean(),\n",
    "        'median': data.median(),\n",
    "        'min': data.min(),\n",
    "        'max': data.max(),\n",
    "        'std': data.std()\n",
    "    }\n",
    "    \n",
    "    return stats\n",
    "\n",
    "# Use the function on our sample dataframe\n",
    "score_stats = analyze_data(df, 'Score')\n",
    "print(\"Statistics for Score column:\")\n",
    "for stat, value in score_stats.items():\n",
    "    print(f\"{stat}: {value:.2f}\")"
   ]
  },
  {
   "cell_type": "markdown",
   "id": "3bffb2b1",
   "metadata": {},
   "source": [
    "## Print or Return Results\n",
    "\n",
    "Ensure each cell provides visible output by either printing results or using the last line to return a value."
   ]
  }
 ],
 "metadata": {
  "language_info": {
   "name": "python"
  }
 },
 "nbformat": 4,
 "nbformat_minor": 5
}
